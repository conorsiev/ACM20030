{
 "cells": [
  {
   "cell_type": "markdown",
   "metadata": {},
   "source": [
    "#  Assignment 5\n",
    "\n",
    "This assignment covers material on matrices, norms, condition numbers and eigensystems.\n",
    "\n",
    "The breakdown of the marks is as follows:\n",
    "\n",
    "Question 0 - [1 mark]  \n",
    "Question 1 - [7 marks]  \n",
    "Questino 2 - [6 marks]  \n",
    "Question 3 - [7 marks]  \n",
    "Question 4 - [9 marks]  "
   ]
  },
  {
   "cell_type": "markdown",
   "metadata": {},
   "source": [
    "# Question 0\n",
    "\n",
    "You should have saved this notebook to your ACM20030-Assignments folder. Now:\n",
    "- commit the notebook to your local repository\n",
    "- push the changes to the GitHub"
   ]
  },
  {
   "cell_type": "code",
   "execution_count": 15,
   "metadata": {},
   "outputs": [],
   "source": [
    "import numpy as np\n",
    "from numpy import linalg as la\n",
    "np.set_printoptions(linewidth=200)  # This stops line wrapping of larger matrices"
   ]
  },
  {
   "cell_type": "markdown",
   "metadata": {},
   "source": [
    "# Question 1 - practice manipulating arrays\n",
    "\n",
    "This questions asks you write a few functions for manipulating arrays of data"
   ]
  },
  {
   "cell_type": "markdown",
   "metadata": {},
   "source": [
    "## Q1 a\n",
    "\n",
    "Write a function that checks if a given $n\\times n$ matrix is symmetric. Use only loops and `.shape` function from numpy (do not use any other special numpy functions)."
   ]
  },
  {
   "cell_type": "code",
   "execution_count": 16,
   "metadata": {},
   "outputs": [],
   "source": [
    "def isSymmetric(a):\n",
    "    counter = 0\n",
    "    if(a.shape[0]!=a.shape[1]):\n",
    "        return False\n",
    "    for i in range(a.shape[0]):\n",
    "        for j in range(a.shape[0]):\n",
    "            if(a[i][j]!=a[j][i]):\n",
    "                counter = counter + 1\n",
    "    if(counter == 0):\n",
    "        return True\n",
    "    if(counter>0):\n",
    "        return False\n",
    "   \n",
    "    \n",
    "    \n",
    "    \n",
    "    \n",
    "    \n",
    "    \n",
    "    "
   ]
  },
  {
   "cell_type": "code",
   "execution_count": 6,
   "metadata": {},
   "outputs": [
    {
     "data": {
      "text/plain": [
       "True"
      ]
     },
     "execution_count": 6,
     "metadata": {},
     "output_type": "execute_result"
    }
   ],
   "source": [
    "isSymmetric(np.array([[6,9],[9,6]]))"
   ]
  },
  {
   "cell_type": "markdown",
   "metadata": {},
   "source": [
    "Test your function on the two matrices below"
   ]
  },
  {
   "cell_type": "code",
   "execution_count": 7,
   "metadata": {},
   "outputs": [],
   "source": [
    "A = np.random.rand(5,5)\n",
    "SymMatrix = (A + A.T)/2"
   ]
  },
  {
   "cell_type": "code",
   "execution_count": 8,
   "metadata": {},
   "outputs": [
    {
     "name": "stdout",
     "output_type": "stream",
     "text": [
      "[[0.19986374 0.96525955 0.13981505 0.04511905 0.86726541]\n",
      " [0.43800419 0.55851364 0.85550063 0.06167998 0.00236755]\n",
      " [0.14140299 0.72218006 0.69468611 0.94653746 0.09540979]\n",
      " [0.35058547 0.25821095 0.38042205 0.17746331 0.01536633]\n",
      " [0.33565424 0.5911206  0.77964087 0.09955154 0.52058241]]\n"
     ]
    },
    {
     "data": {
      "text/plain": [
       "False"
      ]
     },
     "execution_count": 8,
     "metadata": {},
     "output_type": "execute_result"
    }
   ],
   "source": [
    "print(A)\n",
    "isSymmetric(A)"
   ]
  },
  {
   "cell_type": "code",
   "execution_count": 9,
   "metadata": {},
   "outputs": [
    {
     "name": "stdout",
     "output_type": "stream",
     "text": [
      "[[0.19986374 0.70163187 0.14060902 0.19785226 0.60145983]\n",
      " [0.70163187 0.55851364 0.78884034 0.15994546 0.29674407]\n",
      " [0.14060902 0.78884034 0.69468611 0.66347975 0.43752533]\n",
      " [0.19785226 0.15994546 0.66347975 0.17746331 0.05745894]\n",
      " [0.60145983 0.29674407 0.43752533 0.05745894 0.52058241]]\n"
     ]
    },
    {
     "data": {
      "text/plain": [
       "True"
      ]
     },
     "execution_count": 9,
     "metadata": {},
     "output_type": "execute_result"
    }
   ],
   "source": [
    "print(SymMatrix)\n",
    "isSymmetric(SymMatrix)\n"
   ]
  },
  {
   "cell_type": "markdown",
   "metadata": {},
   "source": [
    "## Q1 b\n",
    "\n",
    "Write a function to transpose a general $n\\times n$ matrix. Do this by writing loops and not using any special functions like `np.transpose()`, `A.T`, or any functions from any other library (`np.zeroes`, `np.ones`, `np.shape`, etc are all ok to use)."
   ]
  },
  {
   "cell_type": "code",
   "execution_count": 10,
   "metadata": {},
   "outputs": [],
   "source": [
    "def transposo(a):\n",
    "\n",
    "    b = np.zeros((a.shape[0],a.shape[1]))\n",
    "\n",
    "\n",
    "    i = 0\n",
    "\n",
    "    while(i<a.shape[0]):\n",
    "        b[i,:] = a[:,i]\n",
    "        i+=1\n",
    "\n",
    "\n",
    "    return b"
   ]
  },
  {
   "cell_type": "code",
   "execution_count": 11,
   "metadata": {},
   "outputs": [
    {
     "data": {
      "text/plain": [
       "array([[1., 3.],\n",
       "       [2., 4.]])"
      ]
     },
     "execution_count": 11,
     "metadata": {},
     "output_type": "execute_result"
    }
   ],
   "source": [
    "transposo(np.array([[1,2],[3,4]]))"
   ]
  },
  {
   "cell_type": "markdown",
   "metadata": {},
   "source": [
    "Check your code by transposing a matrix by checking that $A^T \\neq A$ and $(A^T)^T - A = 0$"
   ]
  },
  {
   "cell_type": "code",
   "execution_count": 12,
   "metadata": {
    "scrolled": false
   },
   "outputs": [
    {
     "name": "stdout",
     "output_type": "stream",
     "text": [
      "[[ 0.          0.39475902 -0.29176315 -0.62663734 -0.0957583  -0.82670201]\n",
      " [-0.39475902  0.         -0.60841648  0.54987857 -0.43500614 -0.06662089]\n",
      " [ 0.29176315  0.60841648  0.         -0.33642274 -0.08913223 -0.1260835 ]\n",
      " [ 0.62663734 -0.54987857  0.33642274  0.         -0.41334866 -0.24600065]\n",
      " [ 0.0957583   0.43500614  0.08913223  0.41334866  0.          0.17270938]\n",
      " [ 0.82670201  0.06662089  0.1260835   0.24600065 -0.17270938  0.        ]]\n",
      "[[0. 0. 0. 0. 0. 0.]\n",
      " [0. 0. 0. 0. 0. 0.]\n",
      " [0. 0. 0. 0. 0. 0.]\n",
      " [0. 0. 0. 0. 0. 0.]\n",
      " [0. 0. 0. 0. 0. 0.]\n",
      " [0. 0. 0. 0. 0. 0.]]\n"
     ]
    }
   ],
   "source": [
    "A = np.random.rand(6,6);\n",
    "A_T=transposo(A)\n",
    "\n",
    "print(A_T-A)\n",
    "#This would've been a zero matrix if A_T and A were equal.\n",
    "\n",
    "ATT = transposo(A_T)\n",
    "print(ATT-A)\n",
    "\n",
    "\n",
    "\n"
   ]
  },
  {
   "cell_type": "markdown",
   "metadata": {},
   "source": [
    "## Q1c\n",
    "\n",
    "Write a function that finds the maximum entry in a matrix (where the matrix does not need to be square). Do this by writing loops and not using any special functions like `np.max` or any functions from any other library."
   ]
  },
  {
   "cell_type": "code",
   "execution_count": 15,
   "metadata": {},
   "outputs": [],
   "source": [
    "def maxo(a):\n",
    "    i = 0\n",
    "    m = 0\n",
    "    for i in range(a.shape[0]):\n",
    "        for j in range(a.shape[1]):\n",
    "            if (a[i][j]>m):\n",
    "                m=a[i][j]\n",
    "    print(m)\n",
    "    "
   ]
  },
  {
   "cell_type": "markdown",
   "metadata": {},
   "source": [
    "Check your result by comparing to `np.max(A)` for the below random matrix"
   ]
  },
  {
   "cell_type": "code",
   "execution_count": 16,
   "metadata": {},
   "outputs": [
    {
     "name": "stdout",
     "output_type": "stream",
     "text": [
      "[[0.13465994 0.73558713 0.32533659 0.90039452 0.44442943]\n",
      " [0.14420713 0.16352491 0.422469   0.95046011 0.20147479]\n",
      " [0.84484085 0.66250157 0.65842997 0.35142706 0.65721712]\n",
      " [0.92728116 0.83286013 0.49035576 0.67396249 0.48800598]]\n",
      "(4, 5)\n",
      "0.9504601081557533\n"
     ]
    }
   ],
   "source": [
    "A = np.random.rand(4,5)\n",
    "print(A)\n",
    "print(A.shape)\n",
    "maxo(A)\n",
    "\n"
   ]
  },
  {
   "cell_type": "markdown",
   "metadata": {},
   "source": [
    "Commit your notebook to git and push it to GitHub.\n",
    "\n",
    "# Question 2:  matrix norms\n",
    "\n",
    "In the lectures we focused on the $L^2$-norm. We also briefly mentioned the $L^1$ and $L^\\infty$ norm. Let's look at calculating those as well for a general $m\\times n$ matrix."
   ]
  },
  {
   "cell_type": "markdown",
   "metadata": {},
   "source": [
    "# Q2a\n",
    "\n",
    "The $L^1$ norm is given by\n",
    "\n",
    "$$ \\lVert A \\rVert_1 = \\max_j \\sum^m_{i=1} |a_{ij}| $$\n",
    "\n",
    "i.e., it is the max of the sums of the absolute values of each column. Write a function that computes the $L^1$-norm using only loops. The function should use no special numpy functions except `np.abs()` (`np.shape`, `np.inf`, etc are ok to use)."
   ]
  },
  {
   "cell_type": "code",
   "execution_count": 5,
   "metadata": {},
   "outputs": [],
   "source": [
    "def normy(a):\n",
    "    \n",
    "    m = 0\n",
    "    s = 0\n",
    "    j = 0\n",
    "    while j < a.shape[1]:\n",
    "        for i in range(a.shape[0]):\n",
    "            s = s + np.abs(a[i][j])\n",
    "        \n",
    "        if(s>m):\n",
    "            m = s\n",
    "        s = 0\n",
    "        j = j + 1\n",
    "        \n",
    "    print(\"L1 norm = \"+str(m))\n",
    "            \n",
    "       \n",
    "        \n",
    "            \n",
    "            \n",
    "        "
   ]
  },
  {
   "cell_type": "markdown",
   "metadata": {},
   "source": [
    "Check your result against NumPy's `la.norm(A,1)` function for the following random matrix"
   ]
  },
  {
   "cell_type": "code",
   "execution_count": 65,
   "metadata": {},
   "outputs": [
    {
     "name": "stdout",
     "output_type": "stream",
     "text": [
      "[[0.32341527 0.28533887 0.10393664 0.73343993]\n",
      " [0.95798185 0.70103748 0.61026277 0.26476121]\n",
      " [0.50220114 0.69164479 0.05602602 0.25131294]]\n",
      "L1 norm = 1.7835982525569773\n"
     ]
    }
   ],
   "source": [
    "A = np.random.rand(3,4)\n",
    "print(A)\n",
    "normy(A)"
   ]
  },
  {
   "cell_type": "markdown",
   "metadata": {},
   "source": [
    "## Q2b\n",
    "\n",
    "The $L^\\infty$ norm is given by \n",
    "\n",
    "$$\\lVert A \\rVert_\\infty = \\max_i \\sum_{j=1}^n |a_{ij}|$$\n",
    "\n",
    "i.e., it is the max of the sums of the absolute values of each row. Write a function that computes the $L^\\infty$-norm using only loops and no special numpy functions."
   ]
  },
  {
   "cell_type": "code",
   "execution_count": 70,
   "metadata": {},
   "outputs": [],
   "source": [
    "def normyTwo(a):\n",
    "    \n",
    "    m = 0\n",
    "    s = 0\n",
    "    j = 0\n",
    "    while j < a.shape[0]:\n",
    "        for i in range(a.shape[1]):\n",
    "            s = s + np.abs(a[j][i])\n",
    "        \n",
    "        if(s>m):\n",
    "            m = s\n",
    "        s = 0\n",
    "        j = j + 1\n",
    "        \n",
    "    print(\"L infinity norm = \"+str(m))"
   ]
  },
  {
   "cell_type": "markdown",
   "metadata": {},
   "source": [
    "Check your result against NumPy's `la.norm(A,np.inf)` function for the following random matrix"
   ]
  },
  {
   "cell_type": "code",
   "execution_count": 71,
   "metadata": {},
   "outputs": [
    {
     "name": "stdout",
     "output_type": "stream",
     "text": [
      "[[0.40313341 0.66402404 0.15055621 0.36426948]\n",
      " [0.50383303 0.78550881 0.95189842 0.1922437 ]\n",
      " [0.93975323 0.82718347 0.34386545 0.28213317]]\n",
      "L infinity norm = 2.433483960578659\n"
     ]
    }
   ],
   "source": [
    "A = np.random.rand(3,4)\n",
    "print(A)\n",
    "normyTwo(A)\n"
   ]
  },
  {
   "cell_type": "markdown",
   "metadata": {},
   "source": [
    "Commit your notebook to git and push it to GitHub.\n",
    "\n",
    "# Question 3: ill-conditions systems of equations\n",
    "\n",
    "In this question you can use any of NumPy's functions.\n",
    "\n",
    "## Q3a\n",
    "\n",
    "Which of the following three matrices, $A1, A2, A3$, are ill-conditioned. State the reason for your conclusion."
   ]
  },
  {
   "cell_type": "code",
   "execution_count": 9,
   "metadata": {},
   "outputs": [],
   "source": [
    "A1 = np.array([[ 2.852416473483e-01,  3.803483118694e-01,  2.697704226632e-01,  6.810611849029e-01],\n",
    "       [ 6.622827828376e-01,  6.447943415836e-01,  4.387842058829e-01,  1.530575702376e+00],\n",
    "       [ 3.672130860703e-01,  8.309522079704e-01,  9.975487474007e-01,  5.678296337101e-01],\n",
    "       [ 4.036490000599e-01,  6.865978225967e-06,  8.788095913773e-01, -7.150472427928e-02]])\n",
    "\n",
    "A2 = np.array([[0.988746460106, 0.351486109477, 0.024911477532, 0.384039749683],\n",
    "       [0.282104657306, 0.239884151775, 0.36170151991 , 0.903082266861],\n",
    "       [0.59333290915 , 0.637178863968, 0.241229214635, 0.685595037901],\n",
    "       [0.013591747828, 0.917926970364, 0.458689093885, 0.157821121254]])\n",
    "\n",
    "A3 = np.array([[0.131923621844, 0.245316154195, 0.732362341613, 0.957047891764],\n",
    "       [0.91290446184 , 0.512312007959, 0.391938831444, 0.092509684772],\n",
    "       [0.648708523652, 0.608576675797, 0.576773587276, 0.065385122929],\n",
    "       [0.502955480393, 0.084082960221, 0.659487390444, 0.662958739412]])"
   ]
  },
  {
   "cell_type": "code",
   "execution_count": 81,
   "metadata": {},
   "outputs": [
    {
     "data": {
      "text/plain": [
       "15.12244969941062"
      ]
     },
     "execution_count": 81,
     "metadata": {},
     "output_type": "execute_result"
    }
   ],
   "source": [
    "np.linalg.cond(A3)\n",
    "\n",
    "\n",
    "# A1 is ill-conditioned because A1's condition number is extremely large.\n",
    "# cond(A1) = 13334936994.070848\n",
    "# cond(A2) = 21.55\n",
    "# cond(A3) = 15.12"
   ]
  },
  {
   "cell_type": "markdown",
   "metadata": {},
   "source": [
    "# Q3b\n",
    "\n",
    "With $b = [1,2,3,4]$ and $\\delta b = [0.1,0,0,0]$ for $A1$ and $A2$ calculate the percentage change in $x$ due to a small change in $b$, i.e., calculate \n",
    "\n",
    "$$100\\times\\frac{\\lVert \\delta x_i\\rVert_2}{\\lVert x_i \\rVert_2}\\quad\\text{and}\\quad 100\\times\\frac{\\lVert \\delta b\\rVert_2}{\\lVert b \\rVert_2}$$\n",
    "\n",
    "where $(x_i+\\delta x_i)  = A_i^{-1}(b+\\delta b)$ and $i\\in\\{1,2\\}$."
   ]
  },
  {
   "cell_type": "code",
   "execution_count": 29,
   "metadata": {},
   "outputs": [
    {
     "name": "stdout",
     "output_type": "stream",
     "text": [
      "[-4.56447442e+08 -2.28223724e+08  2.28223725e+08  2.28223722e+08]\n",
      "[-4.56447442e+08 -2.28223724e+08  2.28223725e+08  2.28223722e+08]\n",
      "512.6206098890643\n",
      "10.483582220339125\n",
      "1.8257418583505536\n"
     ]
    }
   ],
   "source": [
    "b = np.array([1,2,3,4])\n",
    "db = np.array([0.1,0,0,0])\n",
    "\n",
    "x1 = np.dot(la.inv(A1),b)\n",
    "dx1 = np.dot(la.inv(A1),db)\n",
    "\n",
    "x2 = np.dot(la.inv(A2),b)\n",
    "dx2 = np.dot(la.inv(A2),db)\n",
    "\n",
    "changex1 = 100*(la.norm(dx1,2)/la.norm(x1,2))\n",
    "changex2 = 100*(la.norm(dx2,2)/la.norm(x2,2))\n",
    "smallchangeb = 100*(la.norm(db,2)/la.norm(b,2))\n",
    "\n",
    "print(x1+dx1)\n",
    "print(np.dot(la.inv(A1),b+db))\n",
    "\n",
    "print(changex1)\n",
    "print(changex2)\n",
    "print(smallchangeb)"
   ]
  },
  {
   "cell_type": "markdown",
   "metadata": {},
   "source": [
    "Which system of equations is more sensitive to small changes in $b$? How could you have guessed this from the answer to the Q3a?"
   ]
  },
  {
   "cell_type": "code",
   "execution_count": 8,
   "metadata": {},
   "outputs": [],
   "source": [
    "# Answer here\n",
    "# A1 : 512.62%  A2: 10.48%\n",
    "# A1 is more sensitive to small changes in b, because the percentage change in x due to a small change in b is far greater \n",
    "# than A2. x in A1 rose by 512.62%, compared to A2's rise in x of just 10.48%"
   ]
  },
  {
   "cell_type": "markdown",
   "metadata": {},
   "source": [
    "Commit your notebook to git and push it to GitHub.\n",
    "\n",
    "# Question 4: eigensystems\n",
    "\n",
    "In this question we look at finding eigenvalues and eigenvectors\n",
    "\n",
    "## Q4a\n",
    "\n",
    "You may use any of NumPy's functions for this sub-question.\n",
    "\n",
    "Find the eigenvalues and eigenvectors for the below matrix. Print out the eigenvalues sorted by descending value and explicitly show that eigenvalues/eigenvector pairs satisfy $Ax = \\lambda x$."
   ]
  },
  {
   "cell_type": "code",
   "execution_count": 7,
   "metadata": {},
   "outputs": [],
   "source": [
    "A = np.array([[1,4,5],[4,5,4],[6,7,9]])"
   ]
  },
  {
   "cell_type": "code",
   "execution_count": 40,
   "metadata": {},
   "outputs": [
    {
     "name": "stdout",
     "output_type": "stream",
     "text": [
      "Eigenvalues sorted by descending value:   [15.78569318  1.26595327 -2.05164645]\n",
      "The print statements below show that each eigenvalue/eigenvector pair satisfies Ax = lamba(x)\n",
      "[ -6.1962015   -7.01266016 -12.71289871]  =  [ -6.1962015   -7.01266016 -12.71289871]\n",
      "[ 1.83806756 -0.74382849 -0.52676368]  =  [ 1.83806756 -0.74382849 -0.52676368]\n",
      "[ 0.12430099 -0.98053324  0.79103825]  =  [ 0.12430099 -0.98053324  0.79103825]\n"
     ]
    }
   ],
   "source": [
    "A  = np.array([[1,4,5],[4,5,4],[6,7,9]])\n",
    "w, v = la.eig(A)\n",
    "\n",
    "\n",
    "wsorted = np.array([15.78569318, 1.26595327, -2.05164645])\n",
    "print(\"Eigenvalues sorted by descending value:  \",wsorted)\n",
    "\n",
    "print(\"The print statements below show that each eigenvalue/eigenvector pair satisfies Ax = lamba(x)\")\n",
    "print(np.dot(A,v[:,0]),\" = \", np.dot(w[0],v[:,0]) )\n",
    "print(np.dot(A,v[:,1]),\" = \", np.dot(w[1],v[:,1]) )\n",
    "print(np.dot(A,v[:,2]),\" = \", np.dot(w[2],v[:,2]) )\n",
    "\n",
    "\n",
    "\n",
    "\n",
    "\n",
    "\n"
   ]
  },
  {
   "cell_type": "markdown",
   "metadata": {},
   "source": [
    "# Q4b\n",
    "\n",
    "Without using NumPy's `la.eig()` (or similar functions), find the 4 eigenvalues and eigenvectors of the following matrix. Hint: Use the power method for the max eigenvalue (given below in `MaxEigenvalue`), the power method applied to the inverse for the smallest eigenvalue, and apply Hotelling's deflation twice to find the second and third eigenvalues/eigenvectors."
   ]
  },
  {
   "cell_type": "code",
   "execution_count": 104,
   "metadata": {},
   "outputs": [],
   "source": [
    "A = np.array([[2.65287619, 1.58615494, 1.47170961, 1.40586081],\n",
    "       [1.58615494, 1.17577323, 0.72084593, 0.79382861],\n",
    "       [1.47170961, 0.72084593, 1.18111969, 0.6654689 ],\n",
    "       [1.40586081, 0.79382861, 0.6654689 , 0.84502394]])"
   ]
  },
  {
   "cell_type": "code",
   "execution_count": 145,
   "metadata": {},
   "outputs": [
    {
     "name": "stdout",
     "output_type": "stream",
     "text": [
      "[5.17297120e+00 1.52979716e-03 1.98622783e-01 4.81669270e-01]\n",
      "[[ 0.71538265  0.68301529  0.14168212 -0.04054567]\n",
      " [ 0.43087578 -0.34802856 -0.64758011 -0.52331842]\n",
      " [ 0.40381884 -0.328043   -0.22152224  0.82477029]\n",
      " [ 0.37350243 -0.55204531  0.71518814 -0.21035171]]\n"
     ]
    }
   ],
   "source": [
    "\n",
    "print(Eigs[0])\n",
    "print (v)"
   ]
  },
  {
   "cell_type": "code",
   "execution_count": 106,
   "metadata": {},
   "outputs": [],
   "source": [
    "#POWER METHOD\n",
    "def MaxEigenvalue(A, err):\n",
    "    (m,n) = A.shape\n",
    "    if(m != n):\n",
    "        print(\"Matrix must be square\")\n",
    "        return\n",
    "    \n",
    "    # Create a random initial vector\n",
    "    x = np.random.rand(m)\n",
    "    \n",
    "    lam = 0.1\n",
    "    lamprev = 1\n",
    "    while np.abs(1-lam/lamprev) > err:\n",
    "        Ax      = np.dot(A,x)\n",
    "        lamprev = lam\n",
    "        lam = la.norm(Ax,2)/la.norm(x,2)\n",
    "        x = Ax\n",
    "        \n",
    "    x = x/la.norm(x)\n",
    "    return (lam,x)"
   ]
  },
  {
   "cell_type": "code",
   "execution_count": 141,
   "metadata": {},
   "outputs": [
    {
     "name": "stdout",
     "output_type": "stream",
     "text": [
      "Largest eigenvalue =  5.172971199844757\n"
     ]
    }
   ],
   "source": [
    "maxeig = MaxEigenvalue(A,1e-14)[0]\n",
    "print(\"Largest eigenvalue = \",maxeig)\n",
    "\n"
   ]
  },
  {
   "cell_type": "code",
   "execution_count": 113,
   "metadata": {},
   "outputs": [
    {
     "name": "stdout",
     "output_type": "stream",
     "text": [
      "Smallest eigenvalue =  0.0015297971635957477\n"
     ]
    }
   ],
   "source": [
    "#POWER METHOD TO THE INVERSE OF A \n",
    "\n",
    "MinEigenvalue = 1/MaxEigenvalue(la.inv(A),1e-14)[0]\n",
    "print(\"Smallest eigenvalue = \",MinEigenvalue)"
   ]
  },
  {
   "cell_type": "code",
   "execution_count": 146,
   "metadata": {},
   "outputs": [
    {
     "name": "stdout",
     "output_type": "stream",
     "text": [
      "Second largest eigenvalue =  0.4816692703106321\n",
      "Third largest eigenvalue =  0.19862278268099304\n"
     ]
    }
   ],
   "source": [
    "#HOTELLING'S DEFLATION TWICE\n",
    "B = A - MaxEigenvalue(A,1e-14)[0]*np.outer(MaxEigenvalue(A,1e-14)[1],MaxEigenvalue(A,1e-14)[1])\n",
    "second = MaxEigenvalue(B, 1e-12)\n",
    "secondval = second[0]\n",
    "print(\"Second largest eigenvalue = \",secondval)\n",
    "\n",
    "C = B - MaxEigenvalue(B,1e-14)[0]*np.outer(MaxEigenvalue(B,1e-14)[1],MaxEigenvalue(B,1e-14)[1])\n",
    "third = MaxEigenvalue(C, 1e-12)\n",
    "thirdval = third[0]\n",
    "print(\"Third largest eigenvalue = \",thirdval)\n"
   ]
  },
  {
   "cell_type": "markdown",
   "metadata": {},
   "source": [
    "Check your answers against Numpy's results from `la.eig(A)`"
   ]
  },
  {
   "cell_type": "code",
   "execution_count": 139,
   "metadata": {},
   "outputs": [
    {
     "name": "stdout",
     "output_type": "stream",
     "text": [
      "[5.17297120e+00 1.52979716e-03 1.98622783e-01 4.81669270e-01]\n"
     ]
    }
   ],
   "source": [
    "print(la.eig(A)[0])"
   ]
  },
  {
   "cell_type": "code",
   "execution_count": 144,
   "metadata": {},
   "outputs": [
    {
     "name": "stdout",
     "output_type": "stream",
     "text": [
      "5.172971199844757 0.0015297971635957477 0.1986227826809928 0.48166927031063367\n"
     ]
    }
   ],
   "source": [
    "print(maxeig,MinEigenvalue, thirdval, secondval)"
   ]
  },
  {
   "cell_type": "markdown",
   "metadata": {},
   "source": [
    "Commit your notebook to git and push it to GitHub. Upload your completed assignment to BrightSpace."
   ]
  }
 ],
 "metadata": {
  "kernelspec": {
   "display_name": "Python 3",
   "language": "python",
   "name": "python3"
  },
  "language_info": {
   "codemirror_mode": {
    "name": "ipython",
    "version": 3
   },
   "file_extension": ".py",
   "mimetype": "text/x-python",
   "name": "python",
   "nbconvert_exporter": "python",
   "pygments_lexer": "ipython3",
   "version": "3.7.6"
  }
 },
 "nbformat": 4,
 "nbformat_minor": 2
}
